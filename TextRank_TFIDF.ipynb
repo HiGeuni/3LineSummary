{
 "cells": [
  {
   "cell_type": "code",
   "execution_count": 1,
   "id": "0408e990",
   "metadata": {},
   "outputs": [],
   "source": [
    "import pandas as pd\n",
    "import numpy as np\n",
    "import sys\n",
    "import os\n",
    "import re\n",
    "import datetime \n",
    "import networkx\n",
    "import json\n",
    "from konlpy.tag import Komoran, Kkma, Twitter\n",
    "from kss import split_sentences\n",
    "import math\n",
    "from sklearn.feature_extraction.text import TfidfVectorizer\n",
    "from sklearn.feature_extraction.text import CountVectorizer"
   ]
  },
  {
   "cell_type": "code",
   "execution_count": 2,
   "id": "8ee3ad76",
   "metadata": {},
   "outputs": [],
   "source": [
    "def tokenize(content):\n",
    "    #split sentence\n",
    "    sent_list = [sent for sent in split_sentences(''.join(content)) if sent is not None]\n",
    "    return sent_list"
   ]
  },
  {
   "cell_type": "code",
   "execution_count": 3,
   "id": "40b23e02",
   "metadata": {},
   "outputs": [
    {
     "name": "stderr",
     "output_type": "stream",
     "text": [
      "<>:11: SyntaxWarning: \"is not\" with a literal. Did you mean \"!=\"?\n",
      "<>:11: SyntaxWarning: \"is not\" with a literal. Did you mean \"!=\"?\n",
      "/var/folders/k5/_4q9447d6f727nxck_52wgy40000gn/T/ipykernel_42206/2225168286.py:11: SyntaxWarning: \"is not\" with a literal. Did you mean \"!=\"?\n",
      "  if sentence is not '':\n"
     ]
    }
   ],
   "source": [
    "class TextRank:\n",
    "    def __init__(self, window = 5, coef = 1.0, threshold=0.005):\n",
    "        self.posTagger = Twitter()\n",
    "        self.graph2 = []\n",
    "        self.nouns = []\n",
    "        self.sentences = []\n",
    " \n",
    "    def loadSentence(self, sentenceIter):    \n",
    "        self.sentences = tokenize(sentenceIter)   \n",
    "        for sentence in self.sentences:\n",
    "            if sentence is not '':\n",
    "                self.nouns.append(' '.join([noun for noun in self.posTagger.nouns(str(sentence)) \n",
    "                                       if len(noun) > 1]))\n",
    "    \n",
    "    def get_rank(self, d=0.85):\n",
    "        matrix_size = self.graph2.shape[0]\n",
    "        for id in range(matrix_size):\n",
    "            self.graph2[id, id] = 0\n",
    "            link_sum = np.sum(self.graph2[:,id])\n",
    "            if link_sum != 0:\n",
    "                self.graph2[:, id] /= link_sum\n",
    "            self.graph2[:, id] *= -d\n",
    "            self.graph2[id, id] = 1\n",
    "        graph_mat = (1-d) * np.ones((matrix_size, 1))\n",
    "        ranks = np.linalg.solve(self.graph2, graph_mat)\n",
    "        return {idx: r[0] for idx, r in enumerate(ranks)}\n",
    "    \n",
    "    def build(self, sentence):\n",
    "        tfidf = TfidfVectorizer()\n",
    "        count = CountVectorizer()\n",
    "        tfidf_mat = tfidf.fit_transform(sentence).toarray()\n",
    "        self.graph2 = np.dot(tfidf_mat, tfidf_mat.T)\n",
    " \n",
    "\n",
    "    def summarize(self):\n",
    "        summary = []\n",
    "        index=[]\n",
    "\n",
    "        idx_rank = self.get_rank()\n",
    "        sorted_rank_idx = sorted(idx_rank, key=lambda k: idx_rank[k], reverse=True)\n",
    "        for idx in sorted_rank_idx[:3]:\n",
    "            index.append(idx)\n",
    "\n",
    "        index.sort()\n",
    "        for idx in index:\n",
    "            summary.append(self.sentences[idx])\n",
    "        return ' '.join(summary)"
   ]
  },
  {
   "cell_type": "code",
   "execution_count": 4,
   "id": "9adb9a1a",
   "metadata": {},
   "outputs": [],
   "source": [
    "def summarise_contents(x):\n",
    "    tr = TextRank(5, 1.0, 0.005) #window, coef, threshold\n",
    "\n",
    "    tr.loadSentence(tokenize(x))\n",
    "\n",
    "    tr.build(x)\n",
    "    ranks = tr.get_rank()\n",
    "#     ranks = tr.rank()\n",
    "    return tr.summarize()"
   ]
  },
  {
   "cell_type": "code",
   "execution_count": 5,
   "id": "958db78e",
   "metadata": {},
   "outputs": [],
   "source": [
    "with open(\"../data.json\", 'r') as f:\n",
    "    data = json.load(f)"
   ]
  },
  {
   "cell_type": "code",
   "execution_count": 6,
   "id": "99612aa7",
   "metadata": {},
   "outputs": [],
   "source": [
    "content = data[3][\"content\"]"
   ]
  },
  {
   "cell_type": "code",
   "execution_count": 7,
   "id": "557d79dd",
   "metadata": {},
   "outputs": [
    {
     "name": "stderr",
     "output_type": "stream",
     "text": [
      "/Users/jeongseog-yeong/opt/anaconda3/lib/python3.9/site-packages/konlpy/tag/_okt.py:17: UserWarning: \"Twitter\" has changed to \"Okt\" since KoNLPy v0.4.5.\n",
      "  warn('\"Twitter\" has changed to \"Okt\" since KoNLPy v0.4.5.')\n",
      "[Korean Sentence Splitter]: Initializing Pynori...\n"
     ]
    },
    {
     "data": {
      "text/plain": [
       "'주요 변경 내용은 가산금리 인하(은행별 상이)와 상환방식 변경, 금융기관(국민은행) 변경 등이다. 특례보증 지원제도는 담보력이 부족해 제도권 은행대출이 사실상 어려운 지역의 소상공인에게 정읍시와 전북신용보증재단이 대신 보증서를 발급해줌으로써 운영자금 대출이 가능하도록 하는 제도이다. 한편, 특례보증 지원 신청은 자금소진 시까지 운영된다.'"
      ]
     },
     "execution_count": 7,
     "metadata": {},
     "output_type": "execute_result"
    }
   ],
   "source": [
    "summarise_contents(data[3][\"content\"])"
   ]
  },
  {
   "cell_type": "code",
   "execution_count": null,
   "id": "a43e7466",
   "metadata": {},
   "outputs": [],
   "source": []
  }
 ],
 "metadata": {
  "kernelspec": {
   "display_name": "Python 3",
   "language": "python",
   "name": "firstenv"
  },
  "language_info": {
   "codemirror_mode": {
    "name": "ipython",
    "version": 3
   },
   "file_extension": ".py",
   "mimetype": "text/x-python",
   "name": "python",
   "nbconvert_exporter": "python",
   "pygments_lexer": "ipython3",
   "version": "3.9.7"
  }
 },
 "nbformat": 4,
 "nbformat_minor": 5
}
