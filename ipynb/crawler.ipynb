{
 "cells": [
  {
   "cell_type": "code",
   "execution_count": 25,
   "id": "de21bc6d",
   "metadata": {},
   "outputs": [],
   "source": [
    "import requests\n",
    "from bs4 import BeautifulSoup"
   ]
  },
  {
   "cell_type": "code",
   "execution_count": 46,
   "id": "c3d0751f",
   "metadata": {},
   "outputs": [],
   "source": [
    "def getNewsContent(url):\n",
    "    header = {'User-Agent':'Mozilla/5.0 (Windows NT 10.0; Win64; x64) AppleWebKit/537.36 (KHTML, like Gecko) Chrome/101.0.4951.67 Safari/537.36'}\n",
    "    r = requests.get(url, headers=header)\n",
    "    recipeSoup = BeautifulSoup(r.text, \"html.parser\")\n",
    "    \n",
    "    instructions = recipeSoup.find(\"div\", itemprop=\"articleBody\")\n",
    "    if not instructions:\n",
    "        instructions = recipeSoup.find(\"article\", itemprop=\"articleBody\")\n",
    "    if not instructions:\n",
    "        instructions = recipeSoup.find(\"div\", id=\"news_body_area\")\n",
    "    if not instructions:\n",
    "        instructions = recipeSoup.find(\"div\", id=\"dic_area\")\n",
    "    if not instructions:\n",
    "        instructions = recipeSoup.find(\"article\", class_=\"article\")\n",
    "    \n",
    "    return instructions.text"
   ]
  },
  {
   "cell_type": "code",
   "execution_count": 38,
   "id": "cbdebb40",
   "metadata": {},
   "outputs": [],
   "source": [
    "url = \"https://n.news.naver.com/mnews/ranking/article/009/0004970360?ntype=RANKING&sid=001\""
   ]
  },
  {
   "cell_type": "code",
   "execution_count": 39,
   "id": "88f206c2",
   "metadata": {},
   "outputs": [],
   "source": [
    "header = {'User-Agent':'Mozilla/5.0 (Windows NT 10.0; Win64; x64) AppleWebKit/537.36 (KHTML, like Gecko) Chrome/101.0.4951.67 Safari/537.36'}\n",
    "r = requests.get(url, headers=header)"
   ]
  },
  {
   "cell_type": "code",
   "execution_count": 51,
   "id": "2538320b",
   "metadata": {},
   "outputs": [
    {
     "data": {
      "text/plain": [
       "200"
      ]
     },
     "execution_count": 51,
     "metadata": {},
     "output_type": "execute_result"
    }
   ],
   "source": [
    "r.status_code"
   ]
  },
  {
   "cell_type": "code",
   "execution_count": 41,
   "id": "57ac0888",
   "metadata": {},
   "outputs": [],
   "source": [
    "recipeSoup = BeautifulSoup(r.text, \"html.parser\")"
   ]
  },
  {
   "cell_type": "code",
   "execution_count": 42,
   "id": "d5ade2fa",
   "metadata": {},
   "outputs": [],
   "source": [
    "instructions = recipeSoup.find(\"div\", itemprop=\"articleBody\")\n",
    "if not instructions:\n",
    "    instructions = recipeSoup.find(\"article\", itemprop=\"articleBody\")\n",
    "if not instructions:\n",
    "    instructions = recipeSoup.find(\"div\", id=\"news_body_area\")\n",
    "if not instructions:\n",
    "    instructions = recipeSoup.find(\"div\", id=\"dic_area\")\n",
    "if not instructions:\n",
    "    instructions = recipeSoup.find(\"article\", class_=\"article\")"
   ]
  },
  {
   "cell_type": "code",
   "execution_count": 43,
   "id": "83f72caa",
   "metadata": {},
   "outputs": [
    {
     "data": {
      "text/plain": [
       "'\\n27일 사전투표소 패션 연일 화제흰색 셔츠 디올로 추정…175만원 국산 브랜드 \\'빌리언템\\' 가방 품절\\n\\n\\n\\n김건희 여사가 6·1 전국동시지방선거 사전투표 첫날인 27일 서울 용산구 용산구의회에 마련된 사전투표소에서 투표 순서를 기다리고 있다. [사진 출처 = 연합뉴스]윤석열 대통령 부인 김건희 여사가 27일 사전투표소에서 선보인 패션이 화제다.윤 대통령과 김 여사는 이날 오후 용산구 이태원 제1동 주민센터에서 사전투표를 마쳤다. 이날 김 여사는 흰색 셔츠에 검은색 치마를 입고 펜화 스타일의 그림이 프린트된 면 소재의 가방을 들었다.흰색 셔츠 하단 옆쪽에는 꿀벌 무늬가 새겨져 눈길을 끌었다. 꿀벌 자수는 프랑스 명품 브랜드 디올에서 즐겨 사용하는 것이라 이 셔츠가 디올 제품이라는 추측이 나온다.  현재 해당 셔츠와 비슷한 제품은 디올 홈페이지에 175만원 대로 올라와 있다. 김 여사가 지참한 가방은 국내 브랜드 \\'빌리언템\\'의 \\'브리저튼 토드 백 스콜\\'로 정가 23만6000원 짜리다. 이 브랜드의 공식 네이버 스마트스토어에서는 11% 할인된 20만8000원에 올라와 있다. 해당 제품은 현재 품절 상태로, 판매 페이지 하단의 질의 응답란에는 \"이거 영부인이 드신 것 맞나요?\", \"언제 수령할 수 있을까요?\" 등의 질문이 올라와 있다. 제품이 품절로 표시되자 \\'재입고\\'를 문의하는 글도 게재됐다. 김 여사는 윤 대통령 당선 이후 검소한 패션으로 주목을 받아왔다. 지난 4월 경찰특공대의 폭발물 탐지견을 끌어안은 사진이 공개됐을 땐 김 여사가 신은 3만원대 흰 슬리퍼가 하루 만에 완판됐다. 이달 3일 구인사를 방문했을 때는 온라인 쇼핑몰에서 산 5만원대 치마를 입어 화제를 모았다.지난 10일 윤 대통령 취임식 때는 국내 디자이너에게 의뢰해 제작한 검은색 투피스와 흰색 투피스를 입었다. 앞서 김 여사는 윤 대통령 당선 이후 명품을 입어야 할 일이 있다면 사비로 구매하겠다고 밝힌 바 있다.\\n'"
      ]
     },
     "execution_count": 43,
     "metadata": {},
     "output_type": "execute_result"
    }
   ],
   "source": [
    "instructions.text"
   ]
  },
  {
   "cell_type": "code",
   "execution_count": 47,
   "id": "84eefcfb",
   "metadata": {},
   "outputs": [
    {
     "data": {
      "text/plain": [
       "'\\n27일 사전투표소 패션 연일 화제흰색 셔츠 디올로 추정…175만원 국산 브랜드 \\'빌리언템\\' 가방 품절\\n\\n\\n\\n김건희 여사가 6·1 전국동시지방선거 사전투표 첫날인 27일 서울 용산구 용산구의회에 마련된 사전투표소에서 투표 순서를 기다리고 있다. [사진 출처 = 연합뉴스]윤석열 대통령 부인 김건희 여사가 27일 사전투표소에서 선보인 패션이 화제다.윤 대통령과 김 여사는 이날 오후 용산구 이태원 제1동 주민센터에서 사전투표를 마쳤다. 이날 김 여사는 흰색 셔츠에 검은색 치마를 입고 펜화 스타일의 그림이 프린트된 면 소재의 가방을 들었다.흰색 셔츠 하단 옆쪽에는 꿀벌 무늬가 새겨져 눈길을 끌었다. 꿀벌 자수는 프랑스 명품 브랜드 디올에서 즐겨 사용하는 것이라 이 셔츠가 디올 제품이라는 추측이 나온다.  현재 해당 셔츠와 비슷한 제품은 디올 홈페이지에 175만원 대로 올라와 있다. 김 여사가 지참한 가방은 국내 브랜드 \\'빌리언템\\'의 \\'브리저튼 토드 백 스콜\\'로 정가 23만6000원 짜리다. 이 브랜드의 공식 네이버 스마트스토어에서는 11% 할인된 20만8000원에 올라와 있다. 해당 제품은 현재 품절 상태로, 판매 페이지 하단의 질의 응답란에는 \"이거 영부인이 드신 것 맞나요?\", \"언제 수령할 수 있을까요?\" 등의 질문이 올라와 있다. 제품이 품절로 표시되자 \\'재입고\\'를 문의하는 글도 게재됐다. 김 여사는 윤 대통령 당선 이후 검소한 패션으로 주목을 받아왔다. 지난 4월 경찰특공대의 폭발물 탐지견을 끌어안은 사진이 공개됐을 땐 김 여사가 신은 3만원대 흰 슬리퍼가 하루 만에 완판됐다. 이달 3일 구인사를 방문했을 때는 온라인 쇼핑몰에서 산 5만원대 치마를 입어 화제를 모았다.지난 10일 윤 대통령 취임식 때는 국내 디자이너에게 의뢰해 제작한 검은색 투피스와 흰색 투피스를 입었다. 앞서 김 여사는 윤 대통령 당선 이후 명품을 입어야 할 일이 있다면 사비로 구매하겠다고 밝힌 바 있다.\\n'"
      ]
     },
     "execution_count": 47,
     "metadata": {},
     "output_type": "execute_result"
    }
   ],
   "source": [
    "getNewsContent(url)"
   ]
  },
  {
   "cell_type": "code",
   "execution_count": null,
   "id": "01142aba",
   "metadata": {},
   "outputs": [],
   "source": []
  }
 ],
 "metadata": {
  "kernelspec": {
   "display_name": "Python 3",
   "language": "python",
   "name": "python3"
  },
  "language_info": {
   "codemirror_mode": {
    "name": "ipython",
    "version": 3
   },
   "file_extension": ".py",
   "mimetype": "text/x-python",
   "name": "python",
   "nbconvert_exporter": "python",
   "pygments_lexer": "ipython3",
   "version": "3.6.13"
  }
 },
 "nbformat": 4,
 "nbformat_minor": 5
}
