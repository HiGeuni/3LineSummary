{
 "cells": [
  {
   "cell_type": "code",
   "execution_count": 4,
   "id": "a2f246a1",
   "metadata": {},
   "outputs": [],
   "source": [
    "import pandas as pd\n",
    "import numpy as np\n",
    "import sys\n",
    "import os\n",
    "import re\n",
    "import datetime \n",
    "import networkx\n",
    "import json\n",
    "from konlpy.tag import Komoran, Kkma, Twitter\n",
    "from kss import split_sentences\n",
    "import math\n",
    "from sklearn.feature_extraction.text import TfidfVectorizer\n",
    "from sklearn.feature_extraction.text import CountVectorizer"
   ]
  },
  {
   "cell_type": "code",
   "execution_count": 21,
   "id": "d1090e57",
   "metadata": {},
   "outputs": [],
   "source": [
    "def tokenize(content):\n",
    "    #split sentence\n",
    "    if(type(content) == str):\n",
    "        content = content.split('\\n')\n",
    "\n",
    "    sent_list = [sent for sent in split_sentences(''.join(content)) if sent is not None]\n",
    "    return sent_list"
   ]
  },
  {
   "cell_type": "code",
   "execution_count": 22,
   "id": "283fae50",
   "metadata": {},
   "outputs": [
    {
     "name": "stderr",
     "output_type": "stream",
     "text": [
      "<>:11: SyntaxWarning: \"is not\" with a literal. Did you mean \"!=\"?\n",
      "<>:11: SyntaxWarning: \"is not\" with a literal. Did you mean \"!=\"?\n",
      "/var/folders/k5/_4q9447d6f727nxck_52wgy40000gn/T/ipykernel_46000/675051371.py:11: SyntaxWarning: \"is not\" with a literal. Did you mean \"!=\"?\n",
      "  if sentence is not '':\n"
     ]
    }
   ],
   "source": [
    "class TextRank:\n",
    "    def __init__(self):\n",
    "        self.posTagger = Twitter()\n",
    "        self.graph2 = []\n",
    "        self.nouns = []\n",
    "        self.sentences = []\n",
    " \n",
    "    def loadSentence(self, sentenceToken):    \n",
    "        self.sentences = sentenceToken   \n",
    "        for sentence in self.sentences:\n",
    "            if sentence is not '':\n",
    "                self.nouns.append(' '.join([noun for noun in self.posTagger.nouns(str(sentence)) \n",
    "                                       if len(noun) > 1]))\n",
    "    \n",
    "    def get_rank(self, d=0.85):\n",
    "        matrix_size = self.graph2.shape[0]\n",
    "        for id in range(matrix_size):\n",
    "            self.graph2[id, id] = 0\n",
    "            link_sum = np.sum(self.graph2[:,id])\n",
    "            if link_sum != 0:\n",
    "                self.graph2[:, id] /= link_sum\n",
    "            self.graph2[:, id] *= -d\n",
    "            self.graph2[id, id] = 1\n",
    "        graph_mat = (1-d) * np.ones((matrix_size, 1))\n",
    "        ranks = np.linalg.solve(self.graph2, graph_mat)\n",
    "        return {idx: r[0] for idx, r in enumerate(ranks)}\n",
    "    \n",
    "    def build(self, sentence):\n",
    "        tfidf = TfidfVectorizer()\n",
    "        count = CountVectorizer()\n",
    "        tfidf_mat = tfidf.fit_transform(sentence).toarray()\n",
    "        self.graph2 = np.dot(tfidf_mat, tfidf_mat.T)\n",
    " \n",
    "\n",
    "    def summarize(self, ratio):\n",
    "        summary = []\n",
    "        index=[]\n",
    "\n",
    "        idx_rank = self.get_rank()\n",
    "        sorted_rank_idx = sorted(idx_rank, key=lambda k: idx_rank[k], reverse=True)\n",
    "        for idx in sorted_rank_idx[:int(len(sorted_rank_idx)*ratio)]:\n",
    "            index.append(idx)\n",
    "        index.sort()\n",
    "        for idx in index:\n",
    "            summary.append(self.sentences[idx])\n",
    "        return ' '.join(summary)"
   ]
  },
  {
   "cell_type": "code",
   "execution_count": 44,
   "id": "4b02b6ab",
   "metadata": {},
   "outputs": [],
   "source": [
    "def summarise_contents(x):\n",
    "    tr = TextRank() #window, coef, threshold\n",
    "    token = tokenize(x)\n",
    "    tr.loadSentence(token)\n",
    "\n",
    "    tr.build(token)\n",
    "    ranks = tr.get_rank()\n",
    "    return tr.summarize(0.2)"
   ]
  },
  {
   "cell_type": "code",
   "execution_count": 45,
   "id": "e4eb4102",
   "metadata": {},
   "outputs": [],
   "source": [
    "with open(\"../data.json\", 'r') as f:\n",
    "    data = json.load(f)"
   ]
  },
  {
   "cell_type": "code",
   "execution_count": 46,
   "id": "3ebb6d43",
   "metadata": {},
   "outputs": [],
   "source": [
    "contents = [data[1][\"content\"], data[10][\"content\"], data[15][\"content\"]]"
   ]
  },
  {
   "cell_type": "code",
   "execution_count": 47,
   "id": "7434c826",
   "metadata": {},
   "outputs": [],
   "source": [
    "content = data[1][\"content\"]"
   ]
  },
  {
   "cell_type": "code",
   "execution_count": 48,
   "id": "68569b54",
   "metadata": {},
   "outputs": [
    {
     "name": "stdout",
     "output_type": "stream",
     "text": [
      "회동이 끝난 후 야당 원내대표들은 김태우 특검법 도입과 신재민 전 사무관의 폭로를 검증하기 위한 기획재정위원회 소집·청문회 등을 더불어민주당에 요청했지만, 홍영표 민주당 원내대표(인천 부평을)가 수용 불가 입장을 밝혔다고 전했다. 반면 홍영표 민주당 원내대표는 말을 아꼈다.\n"
     ]
    }
   ],
   "source": [
    "print(summarise_contents(content))"
   ]
  },
  {
   "cell_type": "code",
   "execution_count": 49,
   "id": "abeb70eb",
   "metadata": {},
   "outputs": [],
   "source": [
    "content = '''\n",
    "이순신(李舜臣, 1545년 4월 28일 ~ 1598년 12월 16일 (음력 11월 19일))은 조선 중기의 무신이었다. 본관은 덕수(德水), 자는 여해(汝諧), 시호는 충무(忠武)였으며, 한성 출신이었다. 문반 가문 출신으로 1576년(선조 9년) 무과(武科)에 급제[1]하여 그 관직이 동구비보 권관, 훈련원 봉사, 발포진 수군만호, 조산보 만호, 전라좌도 수군절도사를 거쳐 정헌대부 삼도수군통제사에 이르렀다.\n",
    "\n",
    "함경도 동구비보권관(董仇非堡權管), 1581년 발포 수군만호(鉢浦水軍萬戶)가 되었다가 전라좌수영의 오동나무를 베기를 거절한 일로 좌수사 성박의 미움을 받기도 했다. 이후 1584년 남병사의 군관과 건원보권관, 훈련원참군, 1586년 사복시주부를 거쳐 조산보만호 겸 녹도둔전사의(造山堡萬戶兼鹿島屯田事宜)로 부임했다. 조산만호 겸 녹둔도사의 재직 중 1587년(선조 20년) 9월의 여진족의 사전 기습공격으로 벌어진 녹둔도전투에서 이겼지만 피해가 커서, 북병사 이일의 탄핵을 받고 백의종군(白衣從軍)하는 위치에 서기도 했다. 그 뒤 두번째 여진족과의 교전에서 승전, 복직하였다. 그 뒤 전라관찰사 이광(李洸)에게 발탁되어 전라도 조방장, 선전관 등을 역임했다. 1589년 정읍현감 재직 중 유성룡의 추천으로 고사리첨사(高沙里僉使)가 되고, 절충장군(折衝將軍), 만포진첨사(滿浦鎭僉使), 진도군수 등을 거쳐 전라좌도수사가 되어 임진왜란을 만나게 되었다.\n",
    "\n",
    "임진왜란 때 조선의 삼도수군통제사가 되어 부하들을 통솔하는 지도력, 뛰어난 지략, 그리고 탁월한 전략과 능수능란한 전술로 일본 수군과의 해전에서 연전연승하여 나라를 구한 성웅(聖雄)으로 추앙받고 있다. 노량 해전에서 전사한 뒤 선무공신 1등관에 추록되고 증 의정부우의정에 추증되고 덕풍군에 추봉되었다가, 광해군 때 다시 증 의정부좌의정에 추증되고 덕풍부원군에 추봉되었고, 정조 때에는 증 의정부영의정으로 가증(加贈)되었다.\n",
    "\n",
    "고려 때 정5품 중랑장(中郎將)을 지낸 덕수 이씨의 시조 이돈수(李敦守)의 12대손이며, 조선 초 영중추부사(領中樞府事)를 지낸 이변(李邊)[2]의 후손이다. 외가는 초계 변씨(卞氏), 처가는 온양 방씨(方氏, 당시에는 상주 방씨)이다. 그의 묘는 충청남도 아산시에 있다\n",
    "'''"
   ]
  },
  {
   "cell_type": "code",
   "execution_count": 50,
   "id": "82d572c6",
   "metadata": {},
   "outputs": [
    {
     "name": "stdout",
     "output_type": "stream",
     "text": [
      "1589년 정읍현감 재직 중 유성룡의 추천으로 고사리첨사(高沙里僉使)가 되고, 절충장군(折衝將軍), 만포진첨사(滿浦鎭僉使), 진도군수 등을 거쳐 전라좌도수사가 되어 임진왜란을 만나게 되었다. 고려 때 정5품 중랑장(中郎將)을 지낸 덕수 이씨의 시조 이돈수(李敦守)의 12대손이며, 조선 초 영중추부사(領中樞府事)를 지낸 이변(李邊)[2]의 후손이다.\n"
     ]
    }
   ],
   "source": [
    "print(summarise_contents(content))"
   ]
  },
  {
   "cell_type": "code",
   "execution_count": null,
   "id": "9b6a8de8",
   "metadata": {},
   "outputs": [],
   "source": []
  }
 ],
 "metadata": {
  "kernelspec": {
   "display_name": "Python 3",
   "language": "python",
   "name": "firstenv"
  },
  "language_info": {
   "codemirror_mode": {
    "name": "ipython",
    "version": 3
   },
   "file_extension": ".py",
   "mimetype": "text/x-python",
   "name": "python",
   "nbconvert_exporter": "python",
   "pygments_lexer": "ipython3",
   "version": "3.9.7"
  }
 },
 "nbformat": 4,
 "nbformat_minor": 5
}
